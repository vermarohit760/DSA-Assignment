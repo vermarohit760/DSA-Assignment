{
 "cells": [
  {
   "cell_type": "code",
   "execution_count": 5,
   "id": "56d1674d",
   "metadata": {},
   "outputs": [
    {
     "name": "stdout",
     "output_type": "stream",
     "text": [
      "1 5 7 -1 5\n",
      "6\n",
      "( 1 , 5 )\n",
      "( 1 , 5 )\n",
      "( 7 , 5 )\n"
     ]
    }
   ],
   "source": [
    "## Write a program to find all pairs of an integer array whose sum is equal to a given number?\n",
    "arr=list(map(int,input().split()))\n",
    "sum=int(input())\n",
    "n=len(arr)\n",
    "for i in range(0,n):\n",
    "    for k in range(i+1,n):\n",
    "        if arr[i]+arr[k]==sum:\n",
    "            print(\"(\",arr[i],\",\",arr[j],\")\")"
   ]
  },
  {
   "cell_type": "code",
   "execution_count": 8,
   "id": "da972a08",
   "metadata": {},
   "outputs": [
    {
     "name": "stdout",
     "output_type": "stream",
     "text": [
      "1 2 3 4 5 6\n",
      "[6, 5, 4, 3, 2, 1]\n"
     ]
    }
   ],
   "source": [
    "##Write a program to reverse an array in place? In place means you cannot create a new array. You have to update the original array.\n",
    "arr=list(map(int,input().split()))\n",
    "n=len(arr)\n",
    "first=0\n",
    "last=n-1\n",
    "for i in range(n//2):\n",
    "    arr[first],arr[last]=arr[last],arr[first]\n",
    "    first+=1\n",
    "    last-=1\n",
    "print(arr)"
   ]
  },
  {
   "cell_type": "code",
   "execution_count": 35,
   "id": "443e0d33",
   "metadata": {},
   "outputs": [
    {
     "name": "stdout",
     "output_type": "stream",
     "text": [
      "abcd\n",
      "bdac\n",
      "string are not rotation of each other:\n"
     ]
    }
   ],
   "source": [
    "##Write a program to check if two strings are a rotation of each other?\n",
    "s1=input()\n",
    "s2=input()\n",
    "if len(s1)!=len(s2):\n",
    "    print('string are not rotation of each other:')\n",
    "else:\n",
    "    a=''\n",
    "    a=s1+s1\n",
    "    if s2 in a:\n",
    "        print('string are rotation to each other:')\n",
    "    else:\n",
    "        print('string are not rotation of each other:')\n"
   ]
  },
  {
   "cell_type": "code",
   "execution_count": 20,
   "id": "1c5a0ae2",
   "metadata": {},
   "outputs": [
    {
     "name": "stdout",
     "output_type": "stream",
     "text": [
      "aabcccccsssssddddddeffff\n",
      "the first non-repeated character from a string b\n"
     ]
    }
   ],
   "source": [
    "##Write a program to print the first non-repeated character from a string?\n",
    "s=input()\n",
    "for a in s:\n",
    "    if s.count(a)==1:\n",
    "        break\n",
    "print('the first non-repeated character from a string',a)\n",
    "        "
   ]
  },
  {
   "cell_type": "code",
   "execution_count": 21,
   "id": "4e998a0a",
   "metadata": {},
   "outputs": [
    {
     "name": "stdout",
     "output_type": "stream",
     "text": [
      "1 2 4 2 3 6 4\n",
      "[] [] [1, 2, 4, 2, 3, 6, 4]\n"
     ]
    }
   ],
   "source": [
    "##Read about the Tower of Hanoi algorithm. Write a program to implement it.\n",
    "def hanoi(n,source,helper,target):\n",
    "    if n>0:\n",
    "        hanoi(n-1,source,target,helper)\n",
    "        if source:\n",
    "            target.append(source.pop())\n",
    "        hanoi(n-1,helper,source,target)\n",
    "        \n",
    "source=list(map(int,input().split()))\n",
    "target=[]\n",
    "helper=[]\n",
    "hanoi(len(source),source,helper,target)\n",
    "\n",
    "print(source,helper,target)"
   ]
  },
  {
   "cell_type": "code",
   "execution_count": 29,
   "id": "6130aaf6",
   "metadata": {},
   "outputs": [
    {
     "name": "stdout",
     "output_type": "stream",
     "text": [
      "AB+CD-*\n",
      "Prefix :  *+AB-CD\n"
     ]
    }
   ],
   "source": [
    "##Read about infix, prefix, and postfix expressions. Write a program to convert postfix to prefix expression.\n",
    "def postToPre(post_exp):\n",
    "    s = []\n",
    "    length = len(post_exp)\n",
    "    for i in range(length):\n",
    "        if post_exp[i] in ['+','-','/','*']:\n",
    "            op1=s[-1]\n",
    "            s.pop()\n",
    "            op2=s[-1]\n",
    "            s.pop()\n",
    "            temp=post_exp[i]+op2+op1\n",
    "            s.append(temp)\n",
    "        else:\n",
    "            s.append(post_exp[i])\n",
    "    ans=\"\"\n",
    "    for i in s:\n",
    "        ans+=i\n",
    "    return ans\n",
    "post_exp=input()\n",
    "print(\"Prefix : \", postToPre(post_exp))"
   ]
  },
  {
   "cell_type": "code",
   "execution_count": 32,
   "id": "e74a57c0",
   "metadata": {},
   "outputs": [
    {
     "name": "stdout",
     "output_type": "stream",
     "text": [
      "*+AB-CD\n",
      "((A+B)*(C-D))\n"
     ]
    }
   ],
   "source": [
    "##Write a program to convert prefix expression to infix expression.\n",
    "def preToIn(prefix):\n",
    "    stack=[]\n",
    "    i=len(prefix) - 1\n",
    "    while i>=0:\n",
    "        if prefix[i] not in ['+','-','/','*']:\n",
    "            stack.append(prefix[i])\n",
    "            i-=1\n",
    "        else:\n",
    "            str=\"(\"+stack.pop()+prefix[i]+stack.pop()+\")\"\n",
    "            stack.append(str)\n",
    "            i -= 1\n",
    "     \n",
    "    return stack.pop()\n",
    "str=input()\n",
    "print(preToIn(str))"
   ]
  },
  {
   "cell_type": "code",
   "execution_count": 36,
   "id": "9ecc955d",
   "metadata": {},
   "outputs": [
    {
     "name": "stdout",
     "output_type": "stream",
     "text": [
      "]{{{}}}\n",
      "Expression is not Balanced!\n"
     ]
    }
   ],
   "source": [
    "##Write a program to check if all the brackets are closed in a given code snippet.\n",
    "class Stack():\n",
    "    def __init__(self):\n",
    "        self.data = []\n",
    "\n",
    "    def push(self,item):\n",
    "        self.data.append(item)\n",
    "\n",
    "    def pop(self):\n",
    "        if len(self.data) >= 1:\n",
    "            self.data.pop()\n",
    "        else:\n",
    "            print('Noting to Pop')\n",
    "\n",
    "    def peek(self):\n",
    "        if len(self.data) >= 1:\n",
    "            return self.data[-1]\n",
    "        else:\n",
    "            print('Noting to Peek')\n",
    "\n",
    "    def isEmpty(self):\n",
    "        return not bool(len(self.data))\n",
    "\n",
    "    def size(self):\n",
    "        return len(self.data)\n",
    "\n",
    "    def display(self):\n",
    "        print('Printing from bottom to top')\n",
    "        for i in self.data:\n",
    "            print(i)\n",
    "\n",
    "stack_obj = Stack()\n",
    "expression = input()\n",
    "for char in expression:\n",
    "    if char in ['{','[','(']:\n",
    "        stack_obj.push(char)\n",
    "    else:\n",
    "        if stack_obj.size() == 0:\n",
    "            print('Expression is not Balanced!')\n",
    "            break\n",
    "        if char == '}':\n",
    "            if stack_obj.peek() == '{':\n",
    "                stack_obj.pop()\n",
    "            else:\n",
    "                print('Expression is not Balanced!')\n",
    "                break\n",
    "        if char == ')':\n",
    "            if stack_obj.peek() == '(':\n",
    "                stack_obj.pop()\n",
    "            else:\n",
    "                print('Expression is not Balanced!')\n",
    "                break\n",
    "        if char == ']':\n",
    "            if stack_obj.peek() == '[':\n",
    "                stack_obj.pop()\n",
    "            else:\n",
    "                print('Expression is not Balanced!')\n",
    "                break\n",
    "else:\n",
    "    if stack_obj.isEmpty():\n",
    "        print('Expression is Balanced')\n",
    "    else:\n",
    "        print('Expression is not Balanced!')\n"
   ]
  },
  {
   "cell_type": "code",
   "execution_count": 40,
   "id": "1fe08e01",
   "metadata": {},
   "outputs": [
    {
     "name": "stdout",
     "output_type": "stream",
     "text": [
      "Original Stack \n",
      "1 2 3 4 \n",
      "Reversed Stack \n",
      "4 3 2 1 \n"
     ]
    }
   ],
   "source": [
    "##Write a program to reverse a stack\n",
    "def insertAtBottom(stack,item):\n",
    "    if isEmpty(stack):\n",
    "        push(stack,item)\n",
    "    else:\n",
    "        temp = pop(stack)\n",
    "        insertAtBottom(stack,item)\n",
    "        push(stack,temp)\n",
    "def reverse(stack):\n",
    "    if not isEmpty(stack):\n",
    "        temp = pop(stack)\n",
    "        reverse(stack)\n",
    "        insertAtBottom(stack,temp)\n",
    "def createStack():\n",
    "    stack=[]\n",
    "    return stack\n",
    "def isEmpty(stack):\n",
    "    return len(stack)==0\n",
    "def push(stack,item):\n",
    "    stack.append(item)\n",
    "def pop(stack):\n",
    "    if(isEmpty(stack)):\n",
    "        print(\"Stack Underflow \")\n",
    "        exit(1)\n",
    " \n",
    "    return stack.pop()\n",
    "def prints(stack):\n",
    "    for i in range(len(stack)-1,-1,-1):\n",
    "        print(stack[i], end = ' ')\n",
    "    print()\n",
    "stack = createStack()\n",
    "push(stack,4)\n",
    "push(stack,3)\n",
    "push(stack,2)\n",
    "push(stack,1)\n",
    "print(\"Original Stack \")\n",
    "prints(stack)\n",
    " \n",
    "reverse(stack)\n",
    " \n",
    "print(\"Reversed Stack \")\n",
    "prints(stack)"
   ]
  },
  {
   "cell_type": "code",
   "execution_count": 43,
   "id": "386a59e5",
   "metadata": {},
   "outputs": [
    {
     "name": "stdout",
     "output_type": "stream",
     "text": [
      "Number Inserted: 3\n",
      "Number Inserted: 5\n",
      "Minimum Element in the stack is: 3\n",
      "Number Inserted: 2\n",
      "Number Inserted: 1\n",
      "Minimum Element in the stack is: 1\n",
      "Top Most Element Removed :1 \n",
      "Minimum Element in the stack is: 2\n"
     ]
    }
   ],
   "source": [
    "##Write a program to find the smallest number using a stack.\n",
    "class Node:\n",
    "    def __init__(self, value):\n",
    "        self.value = value\n",
    "        self.next = None\n",
    "    def __str__(self):\n",
    "        return \"Node({})\".format(self.value)\n",
    "class Stack:\n",
    "    def __init__(self):\n",
    "        self.top = None\n",
    "        self.count = 0\n",
    "        self.minimum = None\n",
    "    def __str__(self):\n",
    "        temp = self.top\n",
    "        out = []\n",
    "        while temp:\n",
    "            out.append(str(temp.value))\n",
    "            temp = temp.next\n",
    "        out = '\\n'.join(out)\n",
    "        return ('Top {} \\n\\nStack :\\n{}'.format(self.top,out))\n",
    "    def getMin(self):\n",
    "        if self.top is None:\n",
    "            return \"Stack is empty\"\n",
    "        else:\n",
    "            print(\"Minimum Element in the stack is: {}\" .format(self.minimum))\n",
    "    def isEmpty(self):\n",
    "        if self.top == None:\n",
    "            return True\n",
    "        else:\n",
    "            return False\n",
    "    def __len__(self):\n",
    "        self.count = 0\n",
    "        tempNode = self.top\n",
    "        while tempNode:\n",
    "            tempNode = tempNode.next\n",
    "            self.count+=1\n",
    "        return self.count  \n",
    "    def peek(self):\n",
    "        if self.top is None:\n",
    "            print (\"Stack is empty\")\n",
    "        else:\n",
    "            if self.top.value < self.minimum:\n",
    "                print(\"Top Most Element is: {}\" .format(self.minimum))\n",
    "            else:\n",
    "                print(\"Top Most Element is: {}\" .format(self.top.value))\n",
    "    def push(self,value):\n",
    "        if self.top is None:\n",
    "            self.top = Node(value)\n",
    "            self.minimum = value\n",
    "         \n",
    "        elif value < self.minimum:\n",
    "            temp = (2 * value) - self.minimum\n",
    "            new_node = Node(temp)\n",
    "            new_node.next = self.top\n",
    "            self.top = new_node\n",
    "            self.minimum = value\n",
    "        else:\n",
    "            new_node = Node(value)\n",
    "            new_node.next = self.top\n",
    "            self.top = new_node\n",
    "        print(\"Number Inserted: {}\" .format(value))\n",
    "    def pop(self):\n",
    "        if self.top is None:\n",
    "            print( \"Stack is empty\")\n",
    "        else:\n",
    "            removedNode = self.top.value\n",
    "            self.top = self.top.next\n",
    "            if removedNode < self.minimum:\n",
    "                print (\"Top Most Element Removed :{} \" .format(self.minimum))\n",
    "                self.minimum = ( ( 2 * self.minimum ) - removedNode )\n",
    "            else:\n",
    "                print (\"Top Most Element Removed : {}\" .format(removedNode))\n",
    "stack = Stack()\n",
    " \n",
    "stack.push(3)\n",
    "stack.push(5)\n",
    "stack.getMin()\n",
    "stack.push(2)\n",
    "stack.push(1)\n",
    "stack.getMin()    \n",
    "stack.pop()\n",
    "stack.getMin()"
   ]
  },
  {
   "cell_type": "code",
   "execution_count": null,
   "id": "720c605f",
   "metadata": {},
   "outputs": [],
   "source": []
  }
 ],
 "metadata": {
  "kernelspec": {
   "display_name": "Python 3 (ipykernel)",
   "language": "python",
   "name": "python3"
  },
  "language_info": {
   "codemirror_mode": {
    "name": "ipython",
    "version": 3
   },
   "file_extension": ".py",
   "mimetype": "text/x-python",
   "name": "python",
   "nbconvert_exporter": "python",
   "pygments_lexer": "ipython3",
   "version": "3.9.6"
  }
 },
 "nbformat": 4,
 "nbformat_minor": 5
}
